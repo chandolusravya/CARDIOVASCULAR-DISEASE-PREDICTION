{
  "cells": [
    {
      "cell_type": "markdown",
      "source": [
        "**Data Analysis & Visualization**"
      ],
      "metadata": {
        "id": "wnELVlyWvSZT"
      }
    },
    {
      "cell_type": "code",
      "execution_count": null,
      "metadata": {
        "id": "CCuzMpDovRT0"
      },
      "outputs": [],
      "source": [
        "import seaborn as sb\n",
        "import matplotlib.pyplot as plt sb.set()"
      ]
    },
    {
      "cell_type": "code",
      "execution_count": null,
      "metadata": {
        "id": "DFjW3ClnvRT1"
      },
      "outputs": [],
      "source": [
        "#Change the data for age from days to years\n",
        "f, axes = plt.subplots(1, 1, figsize=(8, 5)) \n",
        "sb.countplot(x='age', hue='cardio', data = df2, palette=\"Set1\")"
      ]
    },
    {
      "cell_type": "code",
      "execution_count": null,
      "metadata": {
        "id": "2brO2mMAvRT1"
      },
      "outputs": [],
      "source": [
        "#Now lets split the categorial variables by weather the people in the dataset have CVD\n",
        "cardioData_CatCountSplit = pd.melt(df2, id_vars = ['cardio'], value_vars = ['gender', ' ,'alco'\n",
        "sb.catplot(x=\"variable\", hue=\"value\", col=\"cardio\", data=cardioData_CatCountSplit, kind=\"count\")"
      ]
    },
    {
      "cell_type": "code",
      "execution_count": null,
      "metadata": {
        "id": "sjjatF-TvRT1"
      },
      "outputs": [],
      "source": [
        "pip install plotly"
      ]
    },
    {
      "cell_type": "code",
      "execution_count": null,
      "metadata": {
        "id": "_P8Zx6VtvRT2"
      },
      "outputs": [],
      "source": [
        "import plotly.express as px"
      ]
    },
    {
      "cell_type": "code",
      "execution_count": null,
      "metadata": {
        "id": "uq1Jb750vRT2"
      },
      "outputs": [],
      "source": [
        "#Cardiovascular Disease by Age\n",
        "fig = px.histogram(df2, x='age', color='cardio',opacity=0.5, nbins=len(df2['age'].uniqu # color_discrete_sequence=px.colors.qualitative.Set1)\n",
        "fig.update_layout(title_text='Cardiovascular Disease by Age', xaxis_title_text='Age (years)',\n",
        "fig.show()"
      ]
    },
    {
      "cell_type": "code",
      "execution_count": null,
      "metadata": {
        "id": "xdp-HKYgvRT2"
      },
      "outputs": [],
      "source": [
        "cardioData_long = pd.melt(df2, id_vars=['cardio'], value_vars=['cholesterol','gluc', 's 'alco', 'active']\n",
        "fig = px.histogram(cardioData_long, x='variable', color='value', facet_col='cardio', nbins=len(cardioData_long['variable'].unique()),\n",
        "color_discrete_sequence=px.colors.qualitative.Set3)\n",
        "fig.update_layout(title_text='Variable Distribution Among People without and with CVD', xaxis_title_text='Variables',\n",
        "yaxis_title_text='Count')"
      ]
    },
    {
      "cell_type": "code",
      "execution_count": null,
      "metadata": {
        "id": "m-RcjiR8vRT2"
      },
      "outputs": [],
      "source": [
        "fig.show()"
      ]
    },
    {
      "cell_type": "code",
      "execution_count": null,
      "metadata": {
        "id": "9GmW7F_EvRT2"
      },
      "outputs": [],
      "source": [
        "#Lets determine which numeric variable is more important in determining CVD (Male)\n",
        "maleData = df2.query(\"gender == 1\")"
      ]
    },
    {
      "cell_type": "code",
      "execution_count": null,
      "metadata": {
        "id": "mDi48tP0vRT3"
      },
      "outputs": [],
      "source": [
        "maleData.head()"
      ]
    },
    {
      "cell_type": "code",
      "execution_count": null,
      "metadata": {
        "id": "0JDKS0iavRT3",
        "outputId": "05d3498c-3e5c-4889-da83-914fefe73beb"
      },
      "outputs": [
        {
          "ename": "NameError",
          "evalue": "name 'df2' is not defined",
          "output_type": "error",
          "traceback": [
            "\u001b[0;31m---------------------------------------------------------------------------\u001b[0m",
            "\u001b[0;31mNameError\u001b[0m                                 Traceback (most recent call last)",
            "Cell \u001b[0;32mIn[1], line 2\u001b[0m\n\u001b[1;32m      1\u001b[0m \u001b[39m#use heatmap to visuallise which variable has the highest corr\u001b[39;00m\n\u001b[0;32m----> 2\u001b[0m cardioCData\u001b[39m=\u001b[39mdf2\u001b[39m.\u001b[39mcopy()\n\u001b[1;32m      3\u001b[0m \u001b[39m# create a dictionary to map the old values to the new definition values cholesterol_map = { 'normal':1, 'above normal':2, 'well above normal':3} glucose_map={ 'normal':1, 'above average':2, 'well above normal':3}\u001b[39;00m\n",
            "\u001b[0;31mNameError\u001b[0m: name 'df2' is not defined"
          ]
        }
      ],
      "source": [
        "#use heatmap to visuallise which variable has the highest corr\n",
        "cardioCData=df2.copy()\n",
        "# create a dictionary to map the old values to the new definition values \n",
        "cholesterol_map = { 'normal':1, 'above normal':2, 'well above normal':3} \n",
        "glucose_map={ 'normal':1, 'above average':2, 'well above normal':3}\n",
        "smoking_map={'no':0,'yes':1} \n",
        "alcohol_map={'no':0,'yes':1} \n",
        "active_map={'no':0,'yes':1} \n",
        "cvd_map={'no':0,'yes':1} \n",
        "gender_map={'female':1,'male':2}\n",
        "# use the replace() method to map the values in the 'cholesterol' column\n",
        "cardioCData['cholesterol'] = cardioCData['cholesterol'].replace(cholesterol_map) \n",
        "cardioCData['gluc'] = cardioCData['gluc'].replace(glucose_map) \n",
        "cardioCData['smoke'] = cardioCData['smoke'].replace(smoking_map) \n",
        "cardioCData['alco'] = cardioCData['alco'].replace(alcohol_map) \n",
        "cardioCData['active'] = cardioCData['active'].replace(active_map) \n",
        "cardioCData['cardio'] = cardioCData['cardio'].replace(cvd_map) \n",
        "cardioCData['gender'] = cardioCData['gender'].replace(gender_map)\n",
        "#Changing object datataypes to factors\n",
        "cardioCData['cholesterol'] = cardioCData['cholesterol'].astype('int64') \n",
        "cardioCData['gluc'] = cardioCData['gluc'].astype('int64') \n",
        "cardioCData['smoke'] = cardioCData['smoke'].astype('int64') \n",
        "cardioCData['alco'] = cardioCData['alco'].astype('int64') \n",
        "cardioCData['active'] = cardioCData['active'].astype('int64') \n",
        "cardioCData['cardio'] = cardioCData['cardio'].astype('int64')\n",
        "fig, ax = plt.subplots(figsize=(15,12)) \n",
        "sb.heatmap(cardioCData.corr(), vmin=-1, vmax=1, annot=True,cmap=\"rocket_r\",linewidths=0.5) \n",
        "plt.show()\n"
      ]
    }
  ],
  "metadata": {
    "kernelspec": {
      "display_name": "Python 3",
      "language": "python",
      "name": "python3"
    },
    "language_info": {
      "codemirror_mode": {
        "name": "ipython",
        "version": 3
      },
      "file_extension": ".py",
      "mimetype": "text/x-python",
      "name": "python",
      "nbconvert_exporter": "python",
      "pygments_lexer": "ipython3",
      "version": "3.10.10"
    },
    "orig_nbformat": 4,
    "vscode": {
      "interpreter": {
        "hash": "aee8b7b246df8f9039afb4144a1f6fd8d2ca17a180786b69acc140d282b71a49"
      }
    },
    "colab": {
      "provenance": []
    }
  },
  "nbformat": 4,
  "nbformat_minor": 0
}