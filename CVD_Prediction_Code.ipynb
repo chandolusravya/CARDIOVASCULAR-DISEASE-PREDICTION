{
  "cells": [
    {
      "cell_type": "markdown",
      "source": [
        "**Imporitng the Library**"
      ],
      "metadata": {
        "id": "DEOuG8P2JXNP"
      },
      "id": "DEOuG8P2JXNP"
    },
    {
      "cell_type": "code",
      "execution_count": null,
      "id": "a5ac10cf-b84b-485c-9a59-cb987b086141",
      "metadata": {
        "id": "a5ac10cf-b84b-485c-9a59-cb987b086141"
      },
      "outputs": [],
      "source": [
        "import pandas as pd"
      ]
    },
    {
      "cell_type": "markdown",
      "source": [
        "**Loading the dataset from GCP using Big Query**"
      ],
      "metadata": {
        "id": "mc9FbkiHJN4K"
      },
      "id": "mc9FbkiHJN4K"
    },
    {
      "cell_type": "code",
      "execution_count": null,
      "id": "06d2d1e1-3869-4a64-ad10-a063a94f1292",
      "metadata": {
        "id": "06d2d1e1-3869-4a64-ad10-a063a94f1292",
        "outputId": "406bfa11-51bd-4368-bea8-58cb37649de6"
      },
      "outputs": [
        {
          "name": "stderr",
          "output_type": "stream",
          "text": "Setting default log level to \"WARN\".\nTo adjust logging level use sc.setLogLevel(newLevel). For SparkR, use setLogLevel(newLevel).\n23/05/03 20:38:13 INFO org.apache.spark.SparkEnv: Registering MapOutputTracker\n23/05/03 20:38:13 INFO org.apache.spark.SparkEnv: Registering BlockManagerMaster\n23/05/03 20:38:13 INFO org.apache.spark.SparkEnv: Registering BlockManagerMasterHeartbeat\n23/05/03 20:38:13 INFO org.apache.spark.SparkEnv: Registering OutputCommitCoordinator\n[Stage 0:>                                                          (0 + 1) / 1]\r"
        },
        {
          "name": "stdout",
          "output_type": "stream",
          "text": "+-----+-----+------+------+------+-----+-----+-----------+----+-----+----+------+------+\n|   id|  age|gender|height|weight|ap_hi|ap_lo|cholesterol|gluc|smoke|alco|active|cardio|\n+-----+-----+------+------+------+-----+-----+-----------+----+-----+----+------+------+\n|32456|23386|     1|    55|    81|  130|   90|          1|   1|    0|   0|     1|     1|\n|95141|18830|     1|    57|    61|  130|   90|          1|   1|    0|   0|     1|     1|\n|91523|18426|     1|    59|    58|  125|   67|          1|   1|    0|   0|     0|     0|\n+-----+-----+------+------+------+-----+-----+-----------+----+-----+----+------+------+\nonly showing top 3 rows\n\n"
        },
        {
          "name": "stderr",
          "output_type": "stream",
          "text": "                                                                                \r"
        }
      ],
      "source": [
        "from pyspark.sql import SparkSession\n",
        "from pyspark.sql.functions import flatten, udf, col\n",
        "from pyspark.sql.types import BooleanType\n",
        "bucket = 'cvd-bucket'\n",
        "spark = SparkSession.builder\\\n",
        "    .appName(\"cvd-test\")\\\n",
        "    .config(\"spark.jars\", \"gs://spark-lib/bigquery/spark-bigquery-latest.jar\")\\\n",
        "    .getOrCreate()\n",
        "\n",
        "df = spark.read \\\n",
        "    .format(\"bigquery\") \\\n",
        "    .load('deft-return-385519.cvd_dataset.cvdtable').cache()\n",
        "df.show(3)"
      ]
    },
    {
      "cell_type": "markdown",
      "source": [
        "**Data Preprocessing**"
      ],
      "metadata": {
        "id": "o5CmaF0GJ-1k"
      },
      "id": "o5CmaF0GJ-1k"
    },
    {
      "cell_type": "code",
      "execution_count": null,
      "id": "9dae54e2-3b51-496c-bccf-71558eeeca58",
      "metadata": {
        "id": "9dae54e2-3b51-496c-bccf-71558eeeca58"
      },
      "outputs": [],
      "source": [
        "import pandas as pd\n",
        "pandasDF = df.toPandas()"
      ]
    },
    {
      "cell_type": "code",
      "execution_count": null,
      "id": "5bdd1425-a26d-4961-80f6-83e159d6b83c",
      "metadata": {
        "id": "5bdd1425-a26d-4961-80f6-83e159d6b83c",
        "outputId": "3a48ae58-d507-4899-cd1e-77e4baf77a31"
      },
      "outputs": [
        {
          "data": {
            "text/html": "<div>\n<style scoped>\n    .dataframe tbody tr th:only-of-type {\n        vertical-align: middle;\n    }\n\n    .dataframe tbody tr th {\n        vertical-align: top;\n    }\n\n    .dataframe thead th {\n        text-align: right;\n    }\n</style>\n<table border=\"1\" class=\"dataframe\">\n  <thead>\n    <tr style=\"text-align: right;\">\n      <th></th>\n      <th>id</th>\n      <th>age</th>\n      <th>gender</th>\n      <th>height</th>\n      <th>weight</th>\n      <th>ap_hi</th>\n      <th>ap_lo</th>\n      <th>cholesterol</th>\n      <th>gluc</th>\n      <th>smoke</th>\n      <th>alco</th>\n      <th>active</th>\n      <th>cardio</th>\n    </tr>\n  </thead>\n  <tbody>\n    <tr>\n      <th>0</th>\n      <td>32456</td>\n      <td>23386</td>\n      <td>1</td>\n      <td>55</td>\n      <td>81</td>\n      <td>130</td>\n      <td>90</td>\n      <td>1</td>\n      <td>1</td>\n      <td>0</td>\n      <td>0</td>\n      <td>1</td>\n      <td>1</td>\n    </tr>\n    <tr>\n      <th>1</th>\n      <td>95141</td>\n      <td>18830</td>\n      <td>1</td>\n      <td>57</td>\n      <td>61</td>\n      <td>130</td>\n      <td>90</td>\n      <td>1</td>\n      <td>1</td>\n      <td>0</td>\n      <td>0</td>\n      <td>1</td>\n      <td>1</td>\n    </tr>\n    <tr>\n      <th>2</th>\n      <td>91523</td>\n      <td>18426</td>\n      <td>1</td>\n      <td>59</td>\n      <td>58</td>\n      <td>125</td>\n      <td>67</td>\n      <td>1</td>\n      <td>1</td>\n      <td>0</td>\n      <td>0</td>\n      <td>0</td>\n      <td>0</td>\n    </tr>\n    <tr>\n      <th>3</th>\n      <td>41661</td>\n      <td>19088</td>\n      <td>1</td>\n      <td>60</td>\n      <td>69</td>\n      <td>110</td>\n      <td>70</td>\n      <td>1</td>\n      <td>1</td>\n      <td>0</td>\n      <td>0</td>\n      <td>0</td>\n      <td>0</td>\n    </tr>\n    <tr>\n      <th>4</th>\n      <td>39462</td>\n      <td>20978</td>\n      <td>1</td>\n      <td>64</td>\n      <td>61</td>\n      <td>130</td>\n      <td>70</td>\n      <td>1</td>\n      <td>1</td>\n      <td>0</td>\n      <td>0</td>\n      <td>1</td>\n      <td>0</td>\n    </tr>\n  </tbody>\n</table>\n</div>",
            "text/plain": "      id    age  gender  height  weight  ap_hi  ap_lo  cholesterol  gluc  \\\n0  32456  23386       1      55      81    130     90            1     1   \n1  95141  18830       1      57      61    130     90            1     1   \n2  91523  18426       1      59      58    125     67            1     1   \n3  41661  19088       1      60      69    110     70            1     1   \n4  39462  20978       1      64      61    130     70            1     1   \n\n   smoke  alco  active  cardio  \n0      0     0       1       1  \n1      0     0       1       1  \n2      0     0       0       0  \n3      0     0       0       0  \n4      0     0       1       0  "
          },
          "execution_count": 5,
          "metadata": {},
          "output_type": "execute_result"
        }
      ],
      "source": [
        "pandasDF.head()"
      ]
    },
    {
      "cell_type": "code",
      "execution_count": null,
      "id": "e15d0f00-0aae-475f-83ae-00810a7e7082",
      "metadata": {
        "id": "e15d0f00-0aae-475f-83ae-00810a7e7082"
      },
      "outputs": [],
      "source": [
        "#dropping columns that are not required\n",
        "df1= pandasDF.drop('id', axis=1)"
      ]
    },
    {
      "cell_type": "code",
      "execution_count": null,
      "id": "b01df622-3c9b-4a3c-a463-5babab94a760",
      "metadata": {
        "id": "b01df622-3c9b-4a3c-a463-5babab94a760",
        "outputId": "7d9a8455-c3ab-4d53-ad3a-7eca4649369b"
      },
      "outputs": [
        {
          "data": {
            "text/html": "<div>\n<style scoped>\n    .dataframe tbody tr th:only-of-type {\n        vertical-align: middle;\n    }\n\n    .dataframe tbody tr th {\n        vertical-align: top;\n    }\n\n    .dataframe thead th {\n        text-align: right;\n    }\n</style>\n<table border=\"1\" class=\"dataframe\">\n  <thead>\n    <tr style=\"text-align: right;\">\n      <th></th>\n      <th>age</th>\n      <th>gender</th>\n      <th>height</th>\n      <th>weight</th>\n      <th>ap_hi</th>\n      <th>ap_lo</th>\n      <th>cholesterol</th>\n      <th>gluc</th>\n      <th>smoke</th>\n      <th>alco</th>\n      <th>active</th>\n      <th>cardio</th>\n    </tr>\n  </thead>\n  <tbody>\n    <tr>\n      <th>0</th>\n      <td>23386</td>\n      <td>1</td>\n      <td>55</td>\n      <td>81</td>\n      <td>130</td>\n      <td>90</td>\n      <td>1</td>\n      <td>1</td>\n      <td>0</td>\n      <td>0</td>\n      <td>1</td>\n      <td>1</td>\n    </tr>\n    <tr>\n      <th>1</th>\n      <td>18830</td>\n      <td>1</td>\n      <td>57</td>\n      <td>61</td>\n      <td>130</td>\n      <td>90</td>\n      <td>1</td>\n      <td>1</td>\n      <td>0</td>\n      <td>0</td>\n      <td>1</td>\n      <td>1</td>\n    </tr>\n    <tr>\n      <th>2</th>\n      <td>18426</td>\n      <td>1</td>\n      <td>59</td>\n      <td>58</td>\n      <td>125</td>\n      <td>67</td>\n      <td>1</td>\n      <td>1</td>\n      <td>0</td>\n      <td>0</td>\n      <td>0</td>\n      <td>0</td>\n    </tr>\n    <tr>\n      <th>3</th>\n      <td>19088</td>\n      <td>1</td>\n      <td>60</td>\n      <td>69</td>\n      <td>110</td>\n      <td>70</td>\n      <td>1</td>\n      <td>1</td>\n      <td>0</td>\n      <td>0</td>\n      <td>0</td>\n      <td>0</td>\n    </tr>\n    <tr>\n      <th>4</th>\n      <td>20978</td>\n      <td>1</td>\n      <td>64</td>\n      <td>61</td>\n      <td>130</td>\n      <td>70</td>\n      <td>1</td>\n      <td>1</td>\n      <td>0</td>\n      <td>0</td>\n      <td>1</td>\n      <td>0</td>\n    </tr>\n  </tbody>\n</table>\n</div>",
            "text/plain": "     age  gender  height  weight  ap_hi  ap_lo  cholesterol  gluc  smoke  \\\n0  23386       1      55      81    130     90            1     1      0   \n1  18830       1      57      61    130     90            1     1      0   \n2  18426       1      59      58    125     67            1     1      0   \n3  19088       1      60      69    110     70            1     1      0   \n4  20978       1      64      61    130     70            1     1      0   \n\n   alco  active  cardio  \n0     0       1       1  \n1     0       1       1  \n2     0       0       0  \n3     0       0       0  \n4     0       1       0  "
          },
          "execution_count": 7,
          "metadata": {},
          "output_type": "execute_result"
        }
      ],
      "source": [
        "df1.head()"
      ]
    },
    {
      "cell_type": "code",
      "execution_count": null,
      "id": "2bc8d884-d6d9-44e8-b338-6fe9dc219c9a",
      "metadata": {
        "id": "2bc8d884-d6d9-44e8-b338-6fe9dc219c9a"
      },
      "outputs": [],
      "source": [
        "#Converting the age column from days to year\n",
        "df1['age'] = df1['age'].div(365)"
      ]
    },
    {
      "cell_type": "code",
      "execution_count": null,
      "id": "b5ee4e41-b668-4027-9226-28736ffa827a",
      "metadata": {
        "id": "b5ee4e41-b668-4027-9226-28736ffa827a",
        "outputId": "9601273e-da80-4c24-c719-75cb76b1fa81"
      },
      "outputs": [
        {
          "data": {
            "text/html": "<div>\n<style scoped>\n    .dataframe tbody tr th:only-of-type {\n        vertical-align: middle;\n    }\n\n    .dataframe tbody tr th {\n        vertical-align: top;\n    }\n\n    .dataframe thead th {\n        text-align: right;\n    }\n</style>\n<table border=\"1\" class=\"dataframe\">\n  <thead>\n    <tr style=\"text-align: right;\">\n      <th></th>\n      <th>age</th>\n      <th>gender</th>\n      <th>height</th>\n      <th>weight</th>\n      <th>ap_hi</th>\n      <th>ap_lo</th>\n      <th>cholesterol</th>\n      <th>gluc</th>\n      <th>smoke</th>\n      <th>alco</th>\n      <th>active</th>\n      <th>cardio</th>\n    </tr>\n  </thead>\n  <tbody>\n    <tr>\n      <th>0</th>\n      <td>64.071233</td>\n      <td>1</td>\n      <td>55</td>\n      <td>81</td>\n      <td>130</td>\n      <td>90</td>\n      <td>1</td>\n      <td>1</td>\n      <td>0</td>\n      <td>0</td>\n      <td>1</td>\n      <td>1</td>\n    </tr>\n    <tr>\n      <th>1</th>\n      <td>51.589041</td>\n      <td>1</td>\n      <td>57</td>\n      <td>61</td>\n      <td>130</td>\n      <td>90</td>\n      <td>1</td>\n      <td>1</td>\n      <td>0</td>\n      <td>0</td>\n      <td>1</td>\n      <td>1</td>\n    </tr>\n    <tr>\n      <th>2</th>\n      <td>50.482192</td>\n      <td>1</td>\n      <td>59</td>\n      <td>58</td>\n      <td>125</td>\n      <td>67</td>\n      <td>1</td>\n      <td>1</td>\n      <td>0</td>\n      <td>0</td>\n      <td>0</td>\n      <td>0</td>\n    </tr>\n    <tr>\n      <th>3</th>\n      <td>52.295890</td>\n      <td>1</td>\n      <td>60</td>\n      <td>69</td>\n      <td>110</td>\n      <td>70</td>\n      <td>1</td>\n      <td>1</td>\n      <td>0</td>\n      <td>0</td>\n      <td>0</td>\n      <td>0</td>\n    </tr>\n    <tr>\n      <th>4</th>\n      <td>57.473973</td>\n      <td>1</td>\n      <td>64</td>\n      <td>61</td>\n      <td>130</td>\n      <td>70</td>\n      <td>1</td>\n      <td>1</td>\n      <td>0</td>\n      <td>0</td>\n      <td>1</td>\n      <td>0</td>\n    </tr>\n  </tbody>\n</table>\n</div>",
            "text/plain": "         age  gender  height  weight  ap_hi  ap_lo  cholesterol  gluc  smoke  \\\n0  64.071233       1      55      81    130     90            1     1      0   \n1  51.589041       1      57      61    130     90            1     1      0   \n2  50.482192       1      59      58    125     67            1     1      0   \n3  52.295890       1      60      69    110     70            1     1      0   \n4  57.473973       1      64      61    130     70            1     1      0   \n\n   alco  active  cardio  \n0     0       1       1  \n1     0       1       1  \n2     0       0       0  \n3     0       0       0  \n4     0       1       0  "
          },
          "execution_count": 10,
          "metadata": {},
          "output_type": "execute_result"
        }
      ],
      "source": [
        "df1.head()"
      ]
    },
    {
      "cell_type": "code",
      "source": [
        "#Null values check\n",
        "df1.isnull().values.any()"
      ],
      "metadata": {
        "colab": {
          "base_uri": "https://localhost:8080/"
        },
        "id": "x26BRjd-uFF_",
        "outputId": "ba8f6dac-5c93-4549-e538-6a6397e77a93"
      },
      "id": "x26BRjd-uFF_",
      "execution_count": 1,
      "outputs": [
        {
          "output_type": "stream",
          "name": "stdout",
          "text": [
            "False\n"
          ]
        }
      ]
    },
    {
      "cell_type": "code",
      "execution_count": null,
      "id": "83869f08-d92c-4653-9440-1c6e63982e38",
      "metadata": {
        "id": "83869f08-d92c-4653-9440-1c6e63982e38"
      },
      "outputs": [],
      "source": [
        "#converting to required datatypes\n",
        "df2 = df1.astype({'age':'int'})"
      ]
    },
    {
      "cell_type": "code",
      "execution_count": null,
      "id": "5395aa90-71b6-4e29-a30b-b1de91337ed2",
      "metadata": {
        "id": "5395aa90-71b6-4e29-a30b-b1de91337ed2",
        "outputId": "813f63be-d2c2-4579-c841-34fa3840e569"
      },
      "outputs": [
        {
          "data": {
            "text/html": "<div>\n<style scoped>\n    .dataframe tbody tr th:only-of-type {\n        vertical-align: middle;\n    }\n\n    .dataframe tbody tr th {\n        vertical-align: top;\n    }\n\n    .dataframe thead th {\n        text-align: right;\n    }\n</style>\n<table border=\"1\" class=\"dataframe\">\n  <thead>\n    <tr style=\"text-align: right;\">\n      <th></th>\n      <th>age</th>\n      <th>gender</th>\n      <th>height</th>\n      <th>weight</th>\n      <th>ap_hi</th>\n      <th>ap_lo</th>\n      <th>cholesterol</th>\n      <th>gluc</th>\n      <th>smoke</th>\n      <th>alco</th>\n      <th>active</th>\n      <th>cardio</th>\n    </tr>\n  </thead>\n  <tbody>\n    <tr>\n      <th>0</th>\n      <td>64</td>\n      <td>1</td>\n      <td>55</td>\n      <td>81</td>\n      <td>130</td>\n      <td>90</td>\n      <td>1</td>\n      <td>1</td>\n      <td>0</td>\n      <td>0</td>\n      <td>1</td>\n      <td>1</td>\n    </tr>\n    <tr>\n      <th>1</th>\n      <td>51</td>\n      <td>1</td>\n      <td>57</td>\n      <td>61</td>\n      <td>130</td>\n      <td>90</td>\n      <td>1</td>\n      <td>1</td>\n      <td>0</td>\n      <td>0</td>\n      <td>1</td>\n      <td>1</td>\n    </tr>\n    <tr>\n      <th>2</th>\n      <td>50</td>\n      <td>1</td>\n      <td>59</td>\n      <td>58</td>\n      <td>125</td>\n      <td>67</td>\n      <td>1</td>\n      <td>1</td>\n      <td>0</td>\n      <td>0</td>\n      <td>0</td>\n      <td>0</td>\n    </tr>\n    <tr>\n      <th>3</th>\n      <td>52</td>\n      <td>1</td>\n      <td>60</td>\n      <td>69</td>\n      <td>110</td>\n      <td>70</td>\n      <td>1</td>\n      <td>1</td>\n      <td>0</td>\n      <td>0</td>\n      <td>0</td>\n      <td>0</td>\n    </tr>\n    <tr>\n      <th>4</th>\n      <td>57</td>\n      <td>1</td>\n      <td>64</td>\n      <td>61</td>\n      <td>130</td>\n      <td>70</td>\n      <td>1</td>\n      <td>1</td>\n      <td>0</td>\n      <td>0</td>\n      <td>1</td>\n      <td>0</td>\n    </tr>\n  </tbody>\n</table>\n</div>",
            "text/plain": "   age  gender  height  weight  ap_hi  ap_lo  cholesterol  gluc  smoke  alco  \\\n0   64       1      55      81    130     90            1     1      0     0   \n1   51       1      57      61    130     90            1     1      0     0   \n2   50       1      59      58    125     67            1     1      0     0   \n3   52       1      60      69    110     70            1     1      0     0   \n4   57       1      64      61    130     70            1     1      0     0   \n\n   active  cardio  \n0       1       1  \n1       1       1  \n2       0       0  \n3       0       0  \n4       1       0  "
          },
          "execution_count": 12,
          "metadata": {},
          "output_type": "execute_result"
        }
      ],
      "source": [
        "df2.head()"
      ]
    },
    {
      "cell_type": "markdown",
      "source": [
        "**Feature Extraction for better Accuracy**"
      ],
      "metadata": {
        "id": "7zAFPJKSKg0s"
      },
      "id": "7zAFPJKSKg0s"
    },
    {
      "cell_type": "code",
      "execution_count": null,
      "id": "d2c253b8-4901-4fe1-b020-466fcd1d1995",
      "metadata": {
        "id": "d2c253b8-4901-4fe1-b020-466fcd1d1995"
      },
      "outputs": [],
      "source": [
        "required_features = [\n",
        "                    'age',\n",
        "                    'gender',\n",
        "                    'height',\n",
        "                    'weight',\n",
        "                     'ap_hi',\n",
        "                     'ap_lo',\n",
        "                     'cholesterol',\n",
        "                     'gluc',\n",
        "                     'smoke',\n",
        "                     'alco',\n",
        "                     'active'\n",
        "                   ]"
      ]
    },
    {
      "cell_type": "markdown",
      "source": [
        "**Feature Transformation using VectorAssembler**"
      ],
      "metadata": {
        "id": "yeHrSo6TKuBw"
      },
      "id": "yeHrSo6TKuBw"
    },
    {
      "cell_type": "code",
      "execution_count": null,
      "id": "d6f1686e-45c9-45e1-8f30-b796cac149f9",
      "metadata": {
        "id": "d6f1686e-45c9-45e1-8f30-b796cac149f9"
      },
      "outputs": [],
      "source": [
        "from pyspark.ml.feature import VectorAssembler\n",
        "df4=spark.createDataFrame(df2) \n",
        "assembler = VectorAssembler(inputCols=required_features, outputCol='features')\n",
        "\n",
        "transformed_data = assembler.transform(df4)"
      ]
    },
    {
      "cell_type": "code",
      "execution_count": null,
      "id": "a77199ec-7238-4042-b210-9124acb2c1d1",
      "metadata": {
        "id": "a77199ec-7238-4042-b210-9124acb2c1d1",
        "outputId": "22c44c7e-c45f-4908-ab0a-6cfbaf7bc77d"
      },
      "outputs": [
        {
          "name": "stderr",
          "output_type": "stream",
          "text": "[Stage 2:>                                                          (0 + 1) / 1]\r"
        },
        {
          "name": "stdout",
          "output_type": "stream",
          "text": "+---+------+------+------+-----+-----+-----------+----+-----+----+------+------+--------------------+\n|age|gender|height|weight|ap_hi|ap_lo|cholesterol|gluc|smoke|alco|active|cardio|            features|\n+---+------+------+------+-----+-----+-----------+----+-----+----+------+------+--------------------+\n| 64|     1|    55|    81|  130|   90|          1|   1|    0|   0|     1|     1|[64.0,1.0,55.0,81...|\n| 51|     1|    57|    61|  130|   90|          1|   1|    0|   0|     1|     1|[51.0,1.0,57.0,61...|\n| 50|     1|    59|    58|  125|   67|          1|   1|    0|   0|     0|     0|[50.0,1.0,59.0,58...|\n| 52|     1|    60|    69|  110|   70|          1|   1|    0|   0|     0|     0|[52.0,1.0,60.0,69...|\n| 57|     1|    64|    61|  130|   70|          1|   1|    0|   0|     1|     0|[57.0,1.0,64.0,61...|\n| 52|     1|    65|    60|  120|   80|          1|   1|    0|   0|     1|     0|[52.0,1.0,65.0,60...|\n| 53|     2|    65|    72|  130|   80|          1|   1|    0|   0|     0|     0|[53.0,2.0,65.0,72...|\n| 58|     1|    66|    63|   12|   80|          1|   1|    0|   0|     0|     1|[58.0,1.0,66.0,63...|\n| 39|     2|    67|    60|  110|   80|          1|   1|    1|   1|     1|     0|[39.0,2.0,67.0,60...|\n| 60|     1|    67|    57|  120|   90|          1|   1|    0|   0|     1|     1|[60.0,1.0,67.0,57...|\n| 56|     2|    67|    80|  120|   80|          1|   1|    0|   0|     0|     1|[56.0,2.0,67.0,80...|\n| 39|     1|    68|    65|  100|   60|          1|   1|    0|   0|     0|     0|[39.0,1.0,68.0,65...|\n| 57|     2|    68|    71|  120|   80|          1|   1|    0|   0|     1|     0|[57.0,2.0,68.0,71...|\n| 40|     2|    70|    72|  120|    8|          1|   1|    0|   0|     1|     0|[40.0,2.0,70.0,72...|\n| 43|     1|    70|    68|  120|   80|          1|   1|    0|   0|     0|     0|[43.0,1.0,70.0,68...|\n| 42|     2|    70|    69|  120|   80|          1|   1|    0|   0|     0|     0|[42.0,2.0,70.0,69...|\n| 61|     2|    71|    68|  120|   80|          3|   1|    0|   0|     1|     0|[61.0,2.0,71.0,68...|\n| 42|     1|    72|    74|  150|   90|          1|   1|    0|   0|     1|     1|[42.0,1.0,72.0,74...|\n| 53|     2|    74|    98|  140|   90|          1|   1|    0|   0|     1|     1|[53.0,2.0,74.0,98...|\n| 53|     1|    75|   168|  120|   80|          1|   1|    1|   0|     1|     1|[53.0,1.0,75.0,16...|\n+---+------+------+------+-----+-----+-----------+----+-----+----+------+------+--------------------+\nonly showing top 20 rows\n\n"
        },
        {
          "name": "stderr",
          "output_type": "stream",
          "text": "                                                                                \r"
        }
      ],
      "source": [
        "transformed_data.show()"
      ]
    },
    {
      "cell_type": "markdown",
      "source": [
        "**Splitting into Test data and Training Data Set **"
      ],
      "metadata": {
        "id": "jMhF4pDAK3L4"
      },
      "id": "jMhF4pDAK3L4"
    },
    {
      "cell_type": "code",
      "execution_count": null,
      "id": "473064c9-a89c-45d3-94b0-3d07ef590d6c",
      "metadata": {
        "id": "473064c9-a89c-45d3-94b0-3d07ef590d6c"
      },
      "outputs": [],
      "source": [
        "(training_data, test_data) = transformed_data.randomSplit([0.8,0.2])"
      ]
    },
    {
      "cell_type": "code",
      "execution_count": null,
      "id": "75b25511-2cd9-4af1-a880-a34aaebd5b76",
      "metadata": {
        "id": "75b25511-2cd9-4af1-a880-a34aaebd5b76",
        "outputId": "c0e6fc47-78a2-4db1-add4-b4fc236ba75b"
      },
      "outputs": [
        {
          "name": "stderr",
          "output_type": "stream",
          "text": "23/05/03 20:41:20 WARN com.github.fommil.netlib.BLAS: Failed to load implementation from: com.github.fommil.netlib.NativeSystemBLAS\n23/05/03 20:41:20 WARN com.github.fommil.netlib.BLAS: Failed to load implementation from: com.github.fommil.netlib.NativeRefBLAS\n                                                                                \r"
        }
      ],
      "source": [
        "from pyspark.ml.classification import LogisticRegression\n",
        "\n",
        "lr = LogisticRegression(featuresCol = 'features', labelCol = 'cardio', maxIter=10)\n",
        "lrModel = lr.fit(training_data)"
      ]
    },
    {
      "cell_type": "code",
      "execution_count": null,
      "id": "b0747ddd-f607-4772-bf13-a61327afa268",
      "metadata": {
        "id": "b0747ddd-f607-4772-bf13-a61327afa268"
      },
      "outputs": [],
      "source": [
        "rf_predictions = lrModel.transform(test_data)"
      ]
    },
    {
      "cell_type": "markdown",
      "source": [
        "**Predicting the accauracy**"
      ],
      "metadata": {
        "id": "G3aQ9-Ebtnua"
      },
      "id": "G3aQ9-Ebtnua"
    },
    {
      "cell_type": "code",
      "execution_count": null,
      "id": "bb9a8a8a-5400-4192-88ae-b18ef1cb30ef",
      "metadata": {
        "id": "bb9a8a8a-5400-4192-88ae-b18ef1cb30ef",
        "outputId": "04f4345a-8a4c-4bdc-b987-de77c87bc94a"
      },
      "outputs": [
        {
          "name": "stderr",
          "output_type": "stream",
          "text": "[Stage 21:=============================>                            (1 + 1) / 2]\r"
        },
        {
          "name": "stdout",
          "output_type": "stream",
          "text": "Random Forest classifier Accuracy: 0.6706237858838765\n"
        },
        {
          "name": "stderr",
          "output_type": "stream",
          "text": "                                                                                \r"
        }
      ],
      "source": [
        "from pyspark.ml.evaluation import MulticlassClassificationEvaluator\n",
        "\n",
        "multi_evaluator = MulticlassClassificationEvaluator(labelCol = 'cardio', metricName = 'accuracy')\n",
        "print('Random Forest classifier Accuracy:', multi_evaluator.evaluate(rf_predictions))"
      ]
    },
    {
      "cell_type": "markdown",
      "source": [
        "**Confusion Matrix**"
      ],
      "metadata": {
        "id": "JOifILg_twxP"
      },
      "id": "JOifILg_twxP"
    },
    {
      "cell_type": "code",
      "execution_count": 4,
      "id": "db6bdf98-3868-4585-b21f-baf0dd6d93e4",
      "metadata": {
        "colab": {
          "base_uri": "https://localhost:8080/"
        },
        "id": "db6bdf98-3868-4585-b21f-baf0dd6d93e4",
        "outputId": "0e5e8876-0551-4e69-81c7-2135f01f67a1"
      },
      "outputs": [
        {
          "output_type": "stream",
          "name": "stdout",
          "text": [
            "True Positives: 1409208 \n",
            "True Negatives: 541895 \n",
            "False Positives: 86901 \n",
            "False Negatives: 0\n",
            "Total 2650898 \n",
            "Recall 1.0 \n",
            "Precision 0.84888099508434645\n"
          ]
        }
      ],
      "source": [
        "#plot the confusion matrix\n",
        "df = rf_predictions\n",
        "tp = df4[(df4.cardio == 1) & (df4.prediction == 1)].count()\n",
        "tn = df4[(df4.cardio == 0) & (df4.prediction == 0)].count()\n",
        "fp = df4[(df4.cardio == 0) & (df4.prediction == 1)].count()\n",
        "fn = df4[(df4.cardio == 1) & (df4.prediction == 0)].count()\n",
        "print (\"True Positives:\", tp)\n",
        "print (\"True Negatives:\", tn)\n",
        "print (\"False Positives:\", fp)\n",
        "print (\"False Negatives:\", fn)\n",
        "print (\"Total\", df.count())\n",
        "\n",
        "r = float(tp)/(tp + fn)\n",
        "print (\"Recall\", r)\n",
        "\n",
        "p = float(tp) / (tp + fp)\n",
        "print (\"Precision\",p)"
      ]
    },
    {
      "cell_type": "code",
      "execution_count": null,
      "id": "6b5dba2b-2983-4d34-9c01-334652ce1566",
      "metadata": {
        "id": "6b5dba2b-2983-4d34-9c01-334652ce1566"
      },
      "outputs": [],
      "source": [
        "Confusion Matrix\n",
        "[1409208 0\n",
        "  86901  541895]"
      ]
    }
  ],
  "metadata": {
    "kernelspec": {
      "display_name": "Python 3",
      "language": "python",
      "name": "python3"
    },
    "language_info": {
      "codemirror_mode": {
        "name": "ipython",
        "version": 3
      },
      "file_extension": ".py",
      "mimetype": "text/x-python",
      "name": "python",
      "nbconvert_exporter": "python",
      "pygments_lexer": "ipython3",
      "version": "3.8.15"
    },
    "colab": {
      "provenance": []
    }
  },
  "nbformat": 4,
  "nbformat_minor": 5
}